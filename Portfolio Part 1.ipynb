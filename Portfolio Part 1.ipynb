{
 "cells": [
  {
   "cell_type": "markdown",
   "metadata": {
    "deletable": false,
    "editable": false,
    "nbgrader": {
     "cell_type": "markdown",
     "checksum": "9f307b65d0bba7dcc59dc16ffe5f4976",
     "grade": false,
     "grade_id": "preamble",
     "locked": true,
     "schema_version": 3,
     "solution": false,
     "task": false
    }
   },
   "source": [
    "### DS4E-S21: Portfolio assignment: Part 1 \n"
   ]
  },
  {
   "cell_type": "markdown",
   "metadata": {},
   "source": [
    "Countries and Their Ramen Star-Ratings"
   ]
  },
  {
   "cell_type": "markdown",
   "metadata": {
    "deletable": false,
    "editable": false,
    "nbgrader": {
     "cell_type": "markdown",
     "checksum": "6c7255934d036ca35d49a9160180ebb9",
     "grade": false,
     "grade_id": "intro",
     "locked": true,
     "schema_version": 3,
     "solution": false,
     "task": false
    }
   },
   "source": [
    "### Instructions summary\n",
    "\n",
    "*Note: These are summarized instructions only. For the full assignment instructions and for information on datasets, see the **[instructions document](https://docs.google.com/document/d/1z9xokYh49CiThWsUo-rNsVnUv76UKlBrsiob8hZ425w/edit?usp=sharing)**.*\n",
    "\n",
    "This two-part portfolio assignment is an opportunity to apply the skills and concepts from class to real-world data, as well as to experience the joys (and occasionally other emotions!) of conducting original data science research. \n",
    "\n",
    "In **Part 1**, you'll select and explore a dataset by applying the skills you've learned to evaluate the data, set up your research design, import and manipulate a dataset in Python, and conduct original and theoretically-motivated exploratory observations of your data.\n",
    "\n",
    "To complete Part 1, answer the following questions using your selected dataset. We recommend using one of the [curated datasets provided in the instructions](https://docs.google.com/document/d/1z9xokYh49CiThWsUo-rNsVnUv76UKlBrsiob8hZ425w/edit?usp=sharing). If you would prefer to work with a different dataset, please check with your TA for permission prior to submission. We also recommend using the same dataset for both parts 1 and 2, but you do not have to. **All code** must be commented clearly and thoroughly. You may use as many cells as you wish to answer each question.\n",
    "\n",
    "Part 1 must be submitted through JupyterHub by **Monday**, **March 15**, at **9a ET**.\n"
   ]
  },
  {
   "cell_type": "markdown",
   "metadata": {
    "deletable": false,
    "editable": false,
    "nbgrader": {
     "cell_type": "markdown",
     "checksum": "7b615f46f0dc02204d9adcab61ba9c00",
     "grade": false,
     "grade_id": "Q1",
     "locked": true,
     "points": 5,
     "schema_version": 3,
     "solution": false,
     "task": true
    }
   },
   "source": [
    "### 1. Research goals\n",
    "\n",
    "Describe the dataset you have chosen and why you chose it. Very broadly speaking, what drew you to this dataset, and what do you hope to learn through your research?"
   ]
  },
  {
   "cell_type": "markdown",
   "metadata": {},
   "source": [
    "I have chosen the ramen dataset because ramen is one of my all-time favorite foods. I probably eat it for dinner more than I should and I love trying new ramen brands. What drew me to this dataset is that it assembles various reviews for several ramen brands from different countries. I hope to learn which countries have the best ramen reviews so that I can stick to tasting ramen brands from those countries.  "
   ]
  },
  {
   "cell_type": "markdown",
   "metadata": {
    "deletable": false,
    "editable": false,
    "nbgrader": {
     "cell_type": "markdown",
     "checksum": "89d299ac06d28580473236bae6fb5e50",
     "grade": false,
     "grade_id": "Q2",
     "locked": true,
     "points": 5,
     "schema_version": 3,
     "solution": false,
     "task": true
    }
   },
   "source": [
    "### 2. Theory & hypothesis\n",
    "\n",
    "What is one theory you would like to test with this dataset? (It’s okay if you don’t end up directly testing this theory.) What is one testable hypothesis that follows from that theory?"
   ]
  },
  {
   "cell_type": "markdown",
   "metadata": {},
   "source": [
    "One theory I would like to test with this dataset is that Asian countries have the highest ramen ratings since ramen originated from there. My testable hypothesis that follows from the theory is that if all brands' ramen star ratings  are averaged per every country, the data will show that Asian countries will have the highest ramen ratings."
   ]
  },
  {
   "cell_type": "markdown",
   "metadata": {
    "deletable": false,
    "editable": false,
    "nbgrader": {
     "cell_type": "markdown",
     "checksum": "a93e7dcebc18baa4d9cb1500436faaa1",
     "grade": false,
     "grade_id": "Q3",
     "locked": true,
     "points": 5,
     "schema_version": 3,
     "solution": false,
     "task": true
    }
   },
   "source": [
    "### 3. Variables of interest\n",
    "\n",
    "Describe at least two variables in the dataset that will help you test your theory. One should be your dependent variable (DV), and at least one should be your independent variable (IV). Specifically, for each variable describe how it is conceptualized and operationalized, and one strength and weakness of each. (Note: You may have more than one IV if it’s relevant for your theory, but you do not have to.) "
   ]
  },
  {
   "cell_type": "markdown",
   "metadata": {},
   "source": [
    "My independent variable is the country. My dependent variable is the average ramen star-rating for each country. They will help me test my theory since I will be looking for the highest average-ramen star-rating of every country included in the data. \n",
    "\n",
    "Conceptualization & Operationalization for IV (country):\n",
    "I will be conceptualizing highest ramen-ratings for all ramen brands listed in each country of the dataset. \n",
    "The weakness of this conceptualization is that we are not choosing a fair amount of countries from each continent, but rather only analyzing the countries listed in the data.\n",
    "The strength of this conceptualization is that we can group together ramen brands (along with their reviews) to their respective countries.\n",
    "\n",
    "The operationalization is condensing over 2500 star-ratings of The Ramen Rater, a product review website targetted for the hardcore ramen enthusiasts, into the country the ramen brand belongs to. \n",
    "The weakness of this operationalization is that we are not gathering all countries around the world with ramen star-rating reviews.\n",
    "The strength of this operationalization is that we are gathering information from a source that is open to collect reviews of ramen from around the world.\n",
    "\n",
    "\n",
    "Conceptualization & Operationalization for DV (average-ramen star rating):\n",
    "I will be conceptualizaing highest ramen-ratings by average star-ratings collected from grouping all reviews of the brands of each country. \n",
    "The weakness of this conceptualization is that we are not explaining the why behind why each ramen brand is given its particular star-rating (since we are also not analyzing the written reviews).\n",
    "The strength of this conceptualization is that it provides a clear way of measuring the best star rating. It will be measured by the average star-rating review of all brands (listed in the dataset) in every country. \n",
    "\n",
    "The operationalization is exporting over 2500 ramen star-ratings from The Ramen Rater, a product review website targeted for the hardcore ramen enthusiasts. Then, the star-ratings of all brands of each country is averaged so that we have data for the average ramen star-ratings per country.\n",
    "The weakness of this operationalization is that this dataset is an export of reviews from Ramen Rater, a product review website for the \"hardcore ramen enthusiasts.\" That implies it is only gathering star rating from one source, a site usually only ramen enthusiasts would know about. It neglects to take into consideration the star-ratings of the same brand product from other websites, like Amazon.\n",
    "The strength of this operationalization is that star-rating of the ramen brands in every country is measured in such a way where the average star rating is a categorical variable that can be logically ranked (1-5, 5 being the highest). This makes it easier to measure in terms of how much the participant in the data liked the ramen's brand. It ignores the actual text of each review since that is difficult to quantify and compare. "
   ]
  },
  {
   "cell_type": "markdown",
   "metadata": {
    "deletable": false,
    "editable": false,
    "nbgrader": {
     "cell_type": "markdown",
     "checksum": "a68481d3527098aca6219349d7296f60",
     "grade": false,
     "grade_id": "Q4",
     "locked": true,
     "points": 5,
     "schema_version": 3,
     "solution": false,
     "task": true
    }
   },
   "source": [
    "### 4. Evaluating the data\n",
    "\n",
    "All datasets are imperfect. Describe at least two types of errors in your dataset and indicate whether they are random errors, systematic errors (e.g., selection bias), errors of validity, and errors of exclusion. Of these, which do you think will have the strongest impact on your inferences, and why? (Note: for this question you may comment on individual variable(s) and/or the dataset as a whole depending on where you perceive the most relevant errors to be.)"
   ]
  },
  {
   "cell_type": "markdown",
   "metadata": {},
   "source": [
    "There is a systematic error, specifically, selection bias, in this dataset. The Ramen Rater is a product review website with a target audience of the hardcore ramen enthusiasts. This means that we are only selecting on the people who consider themselves frequent eaters of ramen or \"hardcore ramen enthusiasts.\" We do not have data from the rest of the population who are not aware of this website.\n",
    "\n",
    "This dataset also has an error of exclusion. We are not checking other sites (for example, Amazon) for their ramen reviews with the same brands. Besides excluding those other reviews, we are also excluding all other brands with star reviews (brands not listed in this dataset) from that country. We can also be excluding those who do not post reviews, whether that be due to lack of technology or just not choosing to post about their experience. Note that most people who leave product reviews go online to post about an unsatisfactory, negative experience with their product, thus, bringing more star-ratings down. It is not as likely to have online reviews that mostly praise a product. Thus, we can be excluding those who enjoyed the ramen brands and did not post a review.  \n",
    "\n",
    "The error of exclusion has the strongest impact on my inferences. This is because it is not considering a lot of groups, like other sites with the same brands, other brands not included in this dataset, those without access to or knowledge of this site, etc.) which can greatly affect/skew the average rating of all brands in each country. So, with the data I have now, it might be not be an accurate representation of the average ratings of ramen in an entire country since there are many factors that are not taken into account."
   ]
  },
  {
   "cell_type": "markdown",
   "metadata": {
    "deletable": false,
    "editable": false,
    "nbgrader": {
     "cell_type": "markdown",
     "checksum": "00c90aa48d76cea231f98e196f0779fd",
     "grade": false,
     "grade_id": "Q5",
     "locked": true,
     "points": 5,
     "schema_version": 3,
     "solution": false,
     "task": true
    }
   },
   "source": [
    "### 5. Importing the data\n",
    "\n",
    "It’s time to finally get the dataset up and running in Python. Import the data into your Jupyter notebook and carry out any cleaning or organizing that will help you make sense of the dataset. For this and all instances of code to follow, be sure to comment on all code describing what you’re doing. Comments can be inline (e.g., # comments), and should be detailed enough for someone else to be able to understand what your code is doing. "
   ]
  },
  {
   "cell_type": "code",
   "execution_count": 7,
   "metadata": {},
   "outputs": [
    {
     "data": {
      "text/html": [
       "<div>\n",
       "<style scoped>\n",
       "    .dataframe tbody tr th:only-of-type {\n",
       "        vertical-align: middle;\n",
       "    }\n",
       "\n",
       "    .dataframe tbody tr th {\n",
       "        vertical-align: top;\n",
       "    }\n",
       "\n",
       "    .dataframe thead th {\n",
       "        text-align: right;\n",
       "    }\n",
       "</style>\n",
       "<table border=\"1\" class=\"dataframe\">\n",
       "  <thead>\n",
       "    <tr style=\"text-align: right;\">\n",
       "      <th></th>\n",
       "      <th>Average_Stars</th>\n",
       "    </tr>\n",
       "    <tr>\n",
       "      <th>Country</th>\n",
       "      <th></th>\n",
       "    </tr>\n",
       "  </thead>\n",
       "  <tbody>\n",
       "    <tr>\n",
       "      <th>Brazil</th>\n",
       "      <td>4.350000</td>\n",
       "    </tr>\n",
       "    <tr>\n",
       "      <th>Sarawak</th>\n",
       "      <td>4.333333</td>\n",
       "    </tr>\n",
       "    <tr>\n",
       "      <th>Cambodia</th>\n",
       "      <td>4.200000</td>\n",
       "    </tr>\n",
       "    <tr>\n",
       "      <th>Malaysia</th>\n",
       "      <td>4.154194</td>\n",
       "    </tr>\n",
       "    <tr>\n",
       "      <th>Singapore</th>\n",
       "      <td>4.126147</td>\n",
       "    </tr>\n",
       "    <tr>\n",
       "      <th>Indonesia</th>\n",
       "      <td>4.067460</td>\n",
       "    </tr>\n",
       "    <tr>\n",
       "      <th>Japan</th>\n",
       "      <td>3.981605</td>\n",
       "    </tr>\n",
       "    <tr>\n",
       "      <th>Myanmar</th>\n",
       "      <td>3.946429</td>\n",
       "    </tr>\n",
       "    <tr>\n",
       "      <th>Fiji</th>\n",
       "      <td>3.875000</td>\n",
       "    </tr>\n",
       "    <tr>\n",
       "      <th>Hong Kong</th>\n",
       "      <td>3.801825</td>\n",
       "    </tr>\n",
       "    <tr>\n",
       "      <th>South Korea</th>\n",
       "      <td>3.790554</td>\n",
       "    </tr>\n",
       "    <tr>\n",
       "      <th>United States</th>\n",
       "      <td>3.750000</td>\n",
       "    </tr>\n",
       "    <tr>\n",
       "      <th>Mexico</th>\n",
       "      <td>3.730000</td>\n",
       "    </tr>\n",
       "    <tr>\n",
       "      <th>Bangladesh</th>\n",
       "      <td>3.714286</td>\n",
       "    </tr>\n",
       "    <tr>\n",
       "      <th>Taiwan</th>\n",
       "      <td>3.665402</td>\n",
       "    </tr>\n",
       "    <tr>\n",
       "      <th>Germany</th>\n",
       "      <td>3.638889</td>\n",
       "    </tr>\n",
       "    <tr>\n",
       "      <th>Poland</th>\n",
       "      <td>3.625000</td>\n",
       "    </tr>\n",
       "    <tr>\n",
       "      <th>Hungary</th>\n",
       "      <td>3.611111</td>\n",
       "    </tr>\n",
       "    <tr>\n",
       "      <th>Dubai</th>\n",
       "      <td>3.583333</td>\n",
       "    </tr>\n",
       "    <tr>\n",
       "      <th>Finland</th>\n",
       "      <td>3.583333</td>\n",
       "    </tr>\n",
       "    <tr>\n",
       "      <th>Holland</th>\n",
       "      <td>3.562500</td>\n",
       "    </tr>\n",
       "    <tr>\n",
       "      <th>Nepal</th>\n",
       "      <td>3.553571</td>\n",
       "    </tr>\n",
       "    <tr>\n",
       "      <th>Estonia</th>\n",
       "      <td>3.500000</td>\n",
       "    </tr>\n",
       "    <tr>\n",
       "      <th>Ghana</th>\n",
       "      <td>3.500000</td>\n",
       "    </tr>\n",
       "    <tr>\n",
       "      <th>USA</th>\n",
       "      <td>3.457043</td>\n",
       "    </tr>\n",
       "    <tr>\n",
       "      <th>China</th>\n",
       "      <td>3.421893</td>\n",
       "    </tr>\n",
       "    <tr>\n",
       "      <th>India</th>\n",
       "      <td>3.395161</td>\n",
       "    </tr>\n",
       "    <tr>\n",
       "      <th>Thailand</th>\n",
       "      <td>3.384817</td>\n",
       "    </tr>\n",
       "    <tr>\n",
       "      <th>Philippines</th>\n",
       "      <td>3.329787</td>\n",
       "    </tr>\n",
       "    <tr>\n",
       "      <th>Colombia</th>\n",
       "      <td>3.291667</td>\n",
       "    </tr>\n",
       "    <tr>\n",
       "      <th>Sweden</th>\n",
       "      <td>3.250000</td>\n",
       "    </tr>\n",
       "    <tr>\n",
       "      <th>Vietnam</th>\n",
       "      <td>3.187963</td>\n",
       "    </tr>\n",
       "    <tr>\n",
       "      <th>Australia</th>\n",
       "      <td>3.138636</td>\n",
       "    </tr>\n",
       "    <tr>\n",
       "      <th>Pakistan</th>\n",
       "      <td>3.000000</td>\n",
       "    </tr>\n",
       "    <tr>\n",
       "      <th>UK</th>\n",
       "      <td>2.997101</td>\n",
       "    </tr>\n",
       "    <tr>\n",
       "      <th>Netherlands</th>\n",
       "      <td>2.483333</td>\n",
       "    </tr>\n",
       "    <tr>\n",
       "      <th>Canada</th>\n",
       "      <td>2.243902</td>\n",
       "    </tr>\n",
       "    <tr>\n",
       "      <th>Nigeria</th>\n",
       "      <td>1.500000</td>\n",
       "    </tr>\n",
       "  </tbody>\n",
       "</table>\n",
       "</div>"
      ],
      "text/plain": [
       "               Average_Stars\n",
       "Country                     \n",
       "Brazil              4.350000\n",
       "Sarawak             4.333333\n",
       "Cambodia            4.200000\n",
       "Malaysia            4.154194\n",
       "Singapore           4.126147\n",
       "Indonesia           4.067460\n",
       "Japan               3.981605\n",
       "Myanmar             3.946429\n",
       "Fiji                3.875000\n",
       "Hong Kong           3.801825\n",
       "South Korea         3.790554\n",
       "United States       3.750000\n",
       "Mexico              3.730000\n",
       "Bangladesh          3.714286\n",
       "Taiwan              3.665402\n",
       "Germany             3.638889\n",
       "Poland              3.625000\n",
       "Hungary             3.611111\n",
       "Dubai               3.583333\n",
       "Finland             3.583333\n",
       "Holland             3.562500\n",
       "Nepal               3.553571\n",
       "Estonia             3.500000\n",
       "Ghana               3.500000\n",
       "USA                 3.457043\n",
       "China               3.421893\n",
       "India               3.395161\n",
       "Thailand            3.384817\n",
       "Philippines         3.329787\n",
       "Colombia            3.291667\n",
       "Sweden              3.250000\n",
       "Vietnam             3.187963\n",
       "Australia           3.138636\n",
       "Pakistan            3.000000\n",
       "UK                  2.997101\n",
       "Netherlands         2.483333\n",
       "Canada              2.243902\n",
       "Nigeria             1.500000"
      ]
     },
     "execution_count": 7,
     "metadata": {},
     "output_type": "execute_result"
    }
   ],
   "source": [
    "import pandas as pd # import pandas to work with dataset\n",
    "data = pd.read_csv('ramen-ratings.csv',usecols=['Brand','Country','Stars']) #specifies which columns I am using\n",
    "\n",
    "data = data[data[\"Stars\"]!='Unrated'] # don't include unrated reviews \n",
    "data[\"Stars\"] = data[\"Stars\"].astype(float) # turn star data into floats to be able to conduct more descriptive statistics\n",
    "data = data[[\"Country\",\"Stars\"]].groupby(\"Country\").mean() # group each country by average star-rating\n",
    "data.rename(columns={'Stars': 'Average_Stars'}, inplace=True) # rename for a better understanding of column\n",
    "data.sort_values(by=\"Average_Stars\",ascending=False,inplace=True) # sort from best reviewed ramen to lowest ratings\n",
    "data"
   ]
  },
  {
   "cell_type": "markdown",
   "metadata": {
    "deletable": false,
    "editable": false,
    "nbgrader": {
     "cell_type": "markdown",
     "checksum": "956ff6e2a25dfb004e66c7ed1a7f6a81",
     "grade": false,
     "grade_id": "Q6",
     "locked": true,
     "points": 5,
     "schema_version": 3,
     "solution": false,
     "task": true
    }
   },
   "source": [
    "### 6. Descriptive statistics\n",
    "\n",
    "Explore each of the variables you identified in Q3 with at least three descriptive statistics each. They do not need to be the same descriptive statistics for each variable. Briefly explain why you chose each statistic and interpret the result."
   ]
  },
  {
   "cell_type": "code",
   "execution_count": 8,
   "metadata": {},
   "outputs": [
    {
     "data": {
      "text/plain": [
       "3.519086241049727"
      ]
     },
     "execution_count": 8,
     "metadata": {},
     "output_type": "execute_result"
    }
   ],
   "source": [
    "data['Average_Stars'].mean() # dependent variable mean"
   ]
  },
  {
   "cell_type": "markdown",
   "metadata": {},
   "source": [
    "I chose this statistic to analyze the mean of the countries' average-star ratings for my own understanding of where the mean stands relative to the top rated countries with best ramen ratings. "
   ]
  },
  {
   "cell_type": "code",
   "execution_count": 9,
   "metadata": {},
   "outputs": [
    {
     "data": {
      "text/plain": [
       "0.45546243560718036"
      ]
     },
     "execution_count": 9,
     "metadata": {},
     "output_type": "execute_result"
    }
   ],
   "source": [
    "from scipy.stats import iqr # import iqr module from scipy.stats package\n",
    "iqr(data['Average_Stars']) # calculates interquartile range for dem"
   ]
  },
  {
   "cell_type": "markdown",
   "metadata": {},
   "source": [
    "I chose the interquartile range so that I can see how far apart the first and third quartile is (0.45546243560718036) in average star-ratings and how spread out our middle 50% is. 0.45546243560718036 tells us that the data is clustered around the central value and it is not spread out. In other words, we're doing 75% - 25% (quartile 3 - quartile 1)."
   ]
  },
  {
   "cell_type": "code",
   "execution_count": 10,
   "metadata": {},
   "outputs": [
    {
     "data": {
      "text/plain": [
       "4.35"
      ]
     },
     "execution_count": 10,
     "metadata": {},
     "output_type": "execute_result"
    }
   ],
   "source": [
    "data['Average_Stars'].max() # returns highest (max) star-rating"
   ]
  },
  {
   "cell_type": "markdown",
   "metadata": {},
   "source": [
    "I chose this descriptive statistic because it returns the highest ramen star-rating. This is an important statistic for my theory as I am looking for the countries with the highest average rammen-rating and this provides me the highest one and its total out of 5 stars. "
   ]
  },
  {
   "cell_type": "markdown",
   "metadata": {
    "deletable": false,
    "editable": false,
    "nbgrader": {
     "cell_type": "markdown",
     "checksum": "01c710f34c7c72de0e06d212423b2655",
     "grade": false,
     "grade_id": "Q7",
     "locked": true,
     "points": 5,
     "schema_version": 3,
     "solution": false,
     "task": true
    }
   },
   "source": [
    "### 7. Visualizations\n",
    "\n",
    "Construct one visualization for each variable you identified in Q3 (and described in Q6). Briefly explain why you chose that visualization and interpret the result. At this exploratory, observational stage, the visualizations don’t have to be the most beautiful things ever (though they can be!), but they should have titles, labelled axes, and any other information necessary to understand them (e.g., a legend)."
   ]
  },
  {
   "cell_type": "code",
   "execution_count": 11,
   "metadata": {},
   "outputs": [
    {
     "data": {
      "image/png": "[encoded data removed]",
      "text/plain": [
       "<Figure size 432x288 with 1 Axes>"
      ]
     },
     "metadata": {
      "needs_background": "light"
     },
     "output_type": "display_data"
    }
   ],
   "source": [
    "import matplotlib.pyplot as plt  # import packages for data visualization\n",
    "barChart = data['Average_Stars'].plot(kind='bar', color='pink') # create a bar chart and set color of bars to pink\n",
    "plt.xlabel(\"Country\") # labels x-axis\n",
    "plt.ylabel(\"Average Star Rating\") # labels y-axis\n",
    "plt.title(\"Average Ramen Star Rating per Country\") # gives title to visualization\n",
    "plt.rcParams[\"figure.figsize\"] = (10,4) # sets size of visualization (width, height)\n",
    "plt.legend(loc=\"upper right\") # sets legend on upper right corner\n",
    "plt.show() # display chart"
   ]
  },
  {
   "cell_type": "markdown",
   "metadata": {},
   "source": [
    "I chose to use a bar chart since bar charts are usually used for categorical variables. In this dataset, our dependent variable is the average star-rating, which is an ordinal categorical variable. The bar chart provides a clear visualization of the data as it depicts which countries have the highest star-rating in descending order."
   ]
  },
  {
   "cell_type": "markdown",
   "metadata": {
    "deletable": false,
    "editable": false,
    "nbgrader": {
     "cell_type": "markdown",
     "checksum": "42c62d4eba6fb069e5133e62cb3ee362",
     "grade": false,
     "grade_id": "Q8",
     "locked": true,
     "points": 5,
     "schema_version": 3,
     "solution": false,
     "task": true
    }
   },
   "source": [
    "### 8. Reflection\n",
    "\n",
    "What stages of the scientific method have you completed so far? What have you learned about your data? About your topic of interest? Is anything surprising you at this stage when it comes to working through a new dataset on your own? If so, what? If not, why not?"
   ]
  },
  {
   "cell_type": "markdown",
   "metadata": {},
   "source": [
    "I have so far completed the first five steps of the scientific method: observation (I see that I am interested in ramen), question (which country has the best ramen ratings?), theory (asian countries have the best ramen ratings since ramen originated there), hypothesis (asian countries will have the highest average star ratings), and test hypothesis (evaluate average star rating data per country). \n",
    "In this question, I will discuss the sixth step, update theory. I have learned that I cannot disprove my theory. I found that the top average star ratings for ramen consist mostly of Asian countries, but Brazil wins the title of having the highest average star rating and note that Brazil is in South America. That leads me to the next step where I can repeat & extend, which means I test my theory with different data and perhaps refine it so that I look at the top ten countries with highest average ramen star ratings and determine if the majority of those countries lie in Asia.\n",
    "In terms of my topic of interest, I definitely will be trying ramen from Brazil, Sarawak, Cambodia, and Malaysia. I never came across ramen brands from there and yet, they are the highest rated. \n",
    "It's surprising how many moving parts I had to consider when working on a dataset on my own. Importing data is not as simple as it sounds; restructuring, cleaning, and organizing is all crucial to make sense of the data. Deciding on what to focus on and creating a hypothesis was time consuming. I needed to find a way to make sure what I theorized would could be tested with this dataset."
   ]
  }
 ],
 "metadata": {
  "kernelspec": {
   "display_name": "Python 3",
   "language": "python",
   "name": "python3"
  },
  "language_info": {
   "codemirror_mode": {
    "name": "ipython",
    "version": 3
   },
   "file_extension": ".py",
   "mimetype": "text/x-python",
   "name": "python",
   "nbconvert_exporter": "python",
   "pygments_lexer": "ipython3",
   "version": "3.8.5"
  }
 },
 "nbformat": 4,
 "nbformat_minor": 4
}
