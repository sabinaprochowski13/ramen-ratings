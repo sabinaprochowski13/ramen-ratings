{
 "cells": [
  {
   "cell_type": "markdown",
   "metadata": {
    "deletable": false,
    "editable": false,
    "nbgrader": {
     "cell_type": "markdown",
     "checksum": "2a705614f39df2ef02b9df1853c3d2a3",
     "grade": false,
     "grade_id": "preamble",
     "locked": true,
     "schema_version": 3,
     "solution": false,
     "task": false
    }
   },
   "source": [
    "### DS4E-S21: Portfolio assignment: Part 2\n"
   ]
  },
  {
   "cell_type": "markdown",
   "metadata": {},
   "source": [
    "Continents and Their Ramen Star Ratings - Is Asia's Ramen Rated Highest?"
   ]
  },
  {
   "cell_type": "markdown",
   "metadata": {
    "deletable": false,
    "editable": false,
    "nbgrader": {
     "cell_type": "markdown",
     "checksum": "8617bcb800d9b850c3a11be75b77a741",
     "grade": false,
     "grade_id": "intro",
     "locked": true,
     "schema_version": 3,
     "solution": false,
     "task": false
    }
   },
   "source": [
    "### Instructions summary\n",
    "\n",
    "*Note: These are summarized instructions only. For the full assignment instructions, see the **[instructions document](https://docs.google.com/document/d/1z9xokYh49CiThWsUo-rNsVnUv76UKlBrsiob8hZ425w/edit?usp=sharing)**.*\n",
    "\n",
    "This two-part portfolio assignment is an opportunity to apply the skills and concepts from class to real-world data, as well as to experience the joys (and occasionally other emotions!) of conducting original data science research. \n",
    "\n",
    "In **Part 2**, you'll evaluate your data in terms of ethics, conduct correlation, regression, and clustering analyses of your data, discuss your findings, and imagine possible next steps in your research.\n",
    "\n",
    "To complete Part 2, answer the following questions using your dataset. We recommend using the same dataset you used for Part 1, but it is not required. If you are using your own dataset, and it is not the same dataset you used for Part 1, you must get permission from your TA prior to submission. Remember that **all code** must be commented clearly and thoroughly. You may use as many cells as you wish to answer each question.\n",
    "\n",
    "Part 2 must be submitted through JupyterHub by **Monday**, **May 3**, at **9am ET**."
   ]
  },
  {
   "cell_type": "markdown",
   "metadata": {
    "deletable": false,
    "editable": false,
    "nbgrader": {
     "cell_type": "markdown",
     "checksum": "14886cd3784e0de358d286c2087113e3",
     "grade": false,
     "grade_id": "Q1",
     "locked": true,
     "points": 5,
     "schema_version": 3,
     "solution": false,
     "task": true
    }
   },
   "source": [
    "### Question 1\n",
    "\n",
    "Describe any potential ethical concerns related to the data. Give an example of a variable that is NOT included in the dataset but that would raise ethical concerns if it were. Explain your reasoning."
   ]
  },
  {
   "cell_type": "markdown",
   "metadata": {},
   "source": [
    "A potential ethical concern is that we need to know that all data can be potentially identifiable and/or sensitive, especially since this data is public and explicitly includes its source. We are not aware if there was any given informed consent - did the participants agree to have this data be publicly shared on kaggle where anyone can download the data and use it for their own studies? Thus, the review givers were not given a chance to opt in or opt out of these studies. With trace data there's also a high risk of misconception, so it is difficult to say how and why exactly every participant gave the review they did, relative to what other comparison and considering what factors? This may depend on person to person. Thus, we need to be careful in thinking about what can be inferred from this data.\n",
    "\n",
    "An example of a variable that is NOT included in this dataset but that would raise ethical concerns if it were is if the full names of the reviewers were included. That would make the data more traceable and less private, which would be a Violation of Respect for Persons, especially if no informed consent was given and the review givers want to remain anonymous."
   ]
  },
  {
   "cell_type": "markdown",
   "metadata": {
    "deletable": false,
    "editable": false,
    "nbgrader": {
     "cell_type": "markdown",
     "checksum": "651f4c1f133319e164e721ca084f4df8",
     "grade": false,
     "grade_id": "Q2-5-overview",
     "locked": true,
     "schema_version": 3,
     "solution": false,
     "task": false
    }
   },
   "source": [
    "## Linear Relationships\n",
    "\n",
    "*Questions 2 through 5 relate to linear relationships between variables in your data.*"
   ]
  },
  {
   "cell_type": "markdown",
   "metadata": {
    "deletable": false,
    "editable": false,
    "nbgrader": {
     "cell_type": "markdown",
     "checksum": "1257616a3eeb09535489379e14212793",
     "grade": false,
     "grade_id": "Q2",
     "locked": true,
     "points": 5,
     "schema_version": 3,
     "solution": false,
     "task": true
    }
   },
   "source": [
    "### Question 2\n",
    "\n",
    "Name two variables from your dataset (these can be variables you described in Part 1, but don’t have to be). Calculate the correlation between them. \n",
    "\n",
    "*Note: It is okay if the variables you select do not turn out to be correlated or if they are negatively correlated.*"
   ]
  },
  {
   "cell_type": "code",
   "execution_count": 1,
   "metadata": {},
   "outputs": [
    {
     "data": {
      "text/html": [
       "<div>\n",
       "<style scoped>\n",
       "    .dataframe tbody tr th:only-of-type {\n",
       "        vertical-align: middle;\n",
       "    }\n",
       "\n",
       "    .dataframe tbody tr th {\n",
       "        vertical-align: top;\n",
       "    }\n",
       "\n",
       "    .dataframe thead th {\n",
       "        text-align: right;\n",
       "    }\n",
       "</style>\n",
       "<table border=\"1\" class=\"dataframe\">\n",
       "  <thead>\n",
       "    <tr style=\"text-align: right;\">\n",
       "      <th></th>\n",
       "      <th>Review #</th>\n",
       "      <th>Brand</th>\n",
       "      <th>Variety</th>\n",
       "      <th>Style</th>\n",
       "      <th>Country</th>\n",
       "      <th>Stars</th>\n",
       "      <th>Top Ten</th>\n",
       "    </tr>\n",
       "  </thead>\n",
       "  <tbody>\n",
       "    <tr>\n",
       "      <th>0</th>\n",
       "      <td>2580</td>\n",
       "      <td>New Touch</td>\n",
       "      <td>T's Restaurant Tantanmen</td>\n",
       "      <td>Cup</td>\n",
       "      <td>Japan</td>\n",
       "      <td>3.75</td>\n",
       "      <td>NaN</td>\n",
       "    </tr>\n",
       "    <tr>\n",
       "      <th>1</th>\n",
       "      <td>2579</td>\n",
       "      <td>Just Way</td>\n",
       "      <td>Noodles Spicy Hot Sesame Spicy Hot Sesame Guan...</td>\n",
       "      <td>Pack</td>\n",
       "      <td>Taiwan</td>\n",
       "      <td>1</td>\n",
       "      <td>NaN</td>\n",
       "    </tr>\n",
       "    <tr>\n",
       "      <th>2</th>\n",
       "      <td>2578</td>\n",
       "      <td>Nissin</td>\n",
       "      <td>Cup Noodles Chicken Vegetable</td>\n",
       "      <td>Cup</td>\n",
       "      <td>USA</td>\n",
       "      <td>2.25</td>\n",
       "      <td>NaN</td>\n",
       "    </tr>\n",
       "    <tr>\n",
       "      <th>3</th>\n",
       "      <td>2577</td>\n",
       "      <td>Wei Lih</td>\n",
       "      <td>GGE Ramen Snack Tomato Flavor</td>\n",
       "      <td>Pack</td>\n",
       "      <td>Taiwan</td>\n",
       "      <td>2.75</td>\n",
       "      <td>NaN</td>\n",
       "    </tr>\n",
       "    <tr>\n",
       "      <th>4</th>\n",
       "      <td>2576</td>\n",
       "      <td>Ching's Secret</td>\n",
       "      <td>Singapore Curry</td>\n",
       "      <td>Pack</td>\n",
       "      <td>India</td>\n",
       "      <td>3.75</td>\n",
       "      <td>NaN</td>\n",
       "    </tr>\n",
       "  </tbody>\n",
       "</table>\n",
       "</div>"
      ],
      "text/plain": [
       "   Review #           Brand  \\\n",
       "0      2580       New Touch   \n",
       "1      2579        Just Way   \n",
       "2      2578          Nissin   \n",
       "3      2577         Wei Lih   \n",
       "4      2576  Ching's Secret   \n",
       "\n",
       "                                             Variety Style Country Stars  \\\n",
       "0                          T's Restaurant Tantanmen    Cup   Japan  3.75   \n",
       "1  Noodles Spicy Hot Sesame Spicy Hot Sesame Guan...  Pack  Taiwan     1   \n",
       "2                      Cup Noodles Chicken Vegetable   Cup     USA  2.25   \n",
       "3                      GGE Ramen Snack Tomato Flavor  Pack  Taiwan  2.75   \n",
       "4                                    Singapore Curry  Pack   India  3.75   \n",
       "\n",
       "  Top Ten  \n",
       "0     NaN  \n",
       "1     NaN  \n",
       "2     NaN  \n",
       "3     NaN  \n",
       "4     NaN  "
      ]
     },
     "execution_count": 1,
     "metadata": {},
     "output_type": "execute_result"
    }
   ],
   "source": [
    "import pandas as pd # import pandas to work with dataset\n",
    "data = pd.read_csv('ramen-ratings.csv') # load ramen-ratings.csv data\n",
    "data.head() # show first 5 rows"
   ]
  },
  {
   "cell_type": "code",
   "execution_count": 2,
   "metadata": {},
   "outputs": [
    {
     "data": {
      "text/plain": [
       "array(['3.75', '1', '2.25', '2.75', '4.75', '4', '0.25', '2.5', '5',\n",
       "       '4.25', '4.5', '3.5', nan, '1.5', '3.25', '2', '0', '3', '0.5',\n",
       "       '4.00', '5.0', '3.50', '3.8', '4.3', '2.3', '5.00', '3.3', '4.0',\n",
       "       '3.00', '1.75', '3.0', '4.50', '0.75', '1.25', '1.1', '2.1', '0.9',\n",
       "       '3.1', '4.125', '3.125', '2.125', '2.9', '0.1', '2.8', '3.7',\n",
       "       '3.4', '3.6', '2.85', '3.2', '3.65', '1.8'], dtype=object)"
      ]
     },
     "execution_count": 2,
     "metadata": {},
     "output_type": "execute_result"
    }
   ],
   "source": [
    "import numpy as np # import numpy package to work with arrays\n",
    "data['Stars'].replace('Unrated',np.nan,inplace=True) # replace unrated reviews with nan for easier future calculation\n",
    "data['Stars'].unique() # now show all unique star ratings (none unrated now)"
   ]
  },
  {
   "cell_type": "code",
   "execution_count": 3,
   "metadata": {},
   "outputs": [
    {
     "data": {
      "text/plain": [
       "array(['Japan', 'Taiwan', 'USA', 'India', 'South Korea', 'Singapore',\n",
       "       'Thailand', 'Hong Kong', 'Vietnam', 'Ghana', 'Malaysia',\n",
       "       'Indonesia', 'China', 'Nigeria', 'Germany', 'Hungary', 'Mexico',\n",
       "       'Fiji', 'Australia', 'Pakistan', 'Bangladesh', 'Canada', 'Nepal',\n",
       "       'Brazil', 'UK', 'Myanmar', 'Netherlands', 'United States',\n",
       "       'Cambodia', 'Finland', 'Sarawak', 'Philippines', 'Sweden',\n",
       "       'Colombia', 'Estonia', 'Holland', 'Poland', 'Dubai'], dtype=object)"
      ]
     },
     "execution_count": 3,
     "metadata": {},
     "output_type": "execute_result"
    }
   ],
   "source": [
    "data['Country'].unique() # show all unique countries to map them to their continent below"
   ]
  },
  {
   "cell_type": "code",
   "execution_count": 4,
   "metadata": {},
   "outputs": [
    {
     "data": {
      "text/html": [
       "<div>\n",
       "<style scoped>\n",
       "    .dataframe tbody tr th:only-of-type {\n",
       "        vertical-align: middle;\n",
       "    }\n",
       "\n",
       "    .dataframe tbody tr th {\n",
       "        vertical-align: top;\n",
       "    }\n",
       "\n",
       "    .dataframe thead th {\n",
       "        text-align: right;\n",
       "    }\n",
       "</style>\n",
       "<table border=\"1\" class=\"dataframe\">\n",
       "  <thead>\n",
       "    <tr style=\"text-align: right;\">\n",
       "      <th></th>\n",
       "      <th>Review #</th>\n",
       "      <th>Brand</th>\n",
       "      <th>Variety</th>\n",
       "      <th>Style</th>\n",
       "      <th>Country</th>\n",
       "      <th>Stars</th>\n",
       "      <th>Top Ten</th>\n",
       "      <th>Country_Int</th>\n",
       "    </tr>\n",
       "  </thead>\n",
       "  <tbody>\n",
       "    <tr>\n",
       "      <th>0</th>\n",
       "      <td>2580</td>\n",
       "      <td>New Touch</td>\n",
       "      <td>T's Restaurant Tantanmen</td>\n",
       "      <td>Cup</td>\n",
       "      <td>Japan</td>\n",
       "      <td>3.75</td>\n",
       "      <td>NaN</td>\n",
       "      <td>0</td>\n",
       "    </tr>\n",
       "    <tr>\n",
       "      <th>1</th>\n",
       "      <td>2579</td>\n",
       "      <td>Just Way</td>\n",
       "      <td>Noodles Spicy Hot Sesame Spicy Hot Sesame Guan...</td>\n",
       "      <td>Pack</td>\n",
       "      <td>Taiwan</td>\n",
       "      <td>1</td>\n",
       "      <td>NaN</td>\n",
       "      <td>0</td>\n",
       "    </tr>\n",
       "    <tr>\n",
       "      <th>2</th>\n",
       "      <td>2578</td>\n",
       "      <td>Nissin</td>\n",
       "      <td>Cup Noodles Chicken Vegetable</td>\n",
       "      <td>Cup</td>\n",
       "      <td>USA</td>\n",
       "      <td>2.25</td>\n",
       "      <td>NaN</td>\n",
       "      <td>4</td>\n",
       "    </tr>\n",
       "    <tr>\n",
       "      <th>3</th>\n",
       "      <td>2577</td>\n",
       "      <td>Wei Lih</td>\n",
       "      <td>GGE Ramen Snack Tomato Flavor</td>\n",
       "      <td>Pack</td>\n",
       "      <td>Taiwan</td>\n",
       "      <td>2.75</td>\n",
       "      <td>NaN</td>\n",
       "      <td>0</td>\n",
       "    </tr>\n",
       "    <tr>\n",
       "      <th>4</th>\n",
       "      <td>2576</td>\n",
       "      <td>Ching's Secret</td>\n",
       "      <td>Singapore Curry</td>\n",
       "      <td>Pack</td>\n",
       "      <td>India</td>\n",
       "      <td>3.75</td>\n",
       "      <td>NaN</td>\n",
       "      <td>0</td>\n",
       "    </tr>\n",
       "  </tbody>\n",
       "</table>\n",
       "</div>"
      ],
      "text/plain": [
       "   Review #           Brand  \\\n",
       "0      2580       New Touch   \n",
       "1      2579        Just Way   \n",
       "2      2578          Nissin   \n",
       "3      2577         Wei Lih   \n",
       "4      2576  Ching's Secret   \n",
       "\n",
       "                                             Variety Style Country Stars  \\\n",
       "0                          T's Restaurant Tantanmen    Cup   Japan  3.75   \n",
       "1  Noodles Spicy Hot Sesame Spicy Hot Sesame Guan...  Pack  Taiwan     1   \n",
       "2                      Cup Noodles Chicken Vegetable   Cup     USA  2.25   \n",
       "3                      GGE Ramen Snack Tomato Flavor  Pack  Taiwan  2.75   \n",
       "4                                    Singapore Curry  Pack   India  3.75   \n",
       "\n",
       "  Top Ten  Country_Int  \n",
       "0     NaN            0  \n",
       "1     NaN            0  \n",
       "2     NaN            4  \n",
       "3     NaN            0  \n",
       "4     NaN            0  "
      ]
     },
     "execution_count": 4,
     "metadata": {},
     "output_type": "execute_result"
    }
   ],
   "source": [
    "# create new variable that converts country to an integer based on the continent it belongs in and its closeness to Asia\n",
    "\n",
    "# all based on google maps data! ( https://www.google.com/maps : search for distance between Asia and each continent included  in this data)\n",
    "\n",
    "# Asia - 0\n",
    "# Europe - 1 ( part of Eurasia )\n",
    "# Oceania - 2 ( ~ 4697 miles from Asia )\n",
    "# Africa - 3 ( ~ 5231 miles from Asia )\n",
    "# North America - 4 ( ~ 6122 miles from Asia )\n",
    "# South America - 5 ( ~ 10188 miles from Asia )\n",
    "\n",
    "country_int = list() # init empty list\n",
    "\n",
    "# loop over all rank values and create numeric list\n",
    "for val in data['Country']:\n",
    "    if val == 'Japan': # in Asia\n",
    "        country_int.append(0)\n",
    "    elif val == 'Taiwan': # in Asia\n",
    "        country_int.append(0)\n",
    "    elif val == 'USA': # in North America\n",
    "        country_int.append(4) \n",
    "    elif val == 'India': # in Asia\n",
    "        country_int.append(0)\n",
    "    elif val == 'South Korea': # in Asia\n",
    "        country_int.append(0)\n",
    "    elif val == 'Singapore': # in Asia\n",
    "        country_int.append(0) \n",
    "    elif val == 'Thailand': # in Asia\n",
    "        country_int.append(0)\n",
    "    elif val == 'Hong Kong': # in Asia\n",
    "        country_int.append(0)\n",
    "    elif val == 'Vietnam': # in Asia\n",
    "        country_int.append(0)\n",
    "    elif val == 'Ghana': # in Africa\n",
    "        country_int.append(3) \n",
    "    elif val == 'Malaysia': # in Asia\n",
    "        country_int.append(0)\n",
    "    elif val == 'Indonesia': # in Asia\n",
    "        country_int.append(0)\n",
    "    elif val == 'China': # in Asia\n",
    "        country_int.append(0)\n",
    "    elif val == 'Nigeria': # in Africa\n",
    "        country_int.append(3) \n",
    "    elif val == 'Germany': # in Europe\n",
    "        country_int.append(1) \n",
    "    elif val == 'Hungary': # in Europe\n",
    "        country_int.append(1) \n",
    "    elif val == 'Mexico': # in North America\n",
    "        country_int.append(4)\n",
    "    elif val == 'Fiji': # in Oceania\n",
    "        country_int.append(2) \n",
    "    elif val == 'Australia': # in Oceania\n",
    "        country_int.append(2) \n",
    "    elif val == 'Pakistan': # in Asia\n",
    "        country_int.append(0)\n",
    "    elif val == 'Bangladesh': # in Asia\n",
    "        country_int.append(0)\n",
    "    elif val == 'Canada': # in North America\n",
    "        country_int.append(4)\n",
    "    elif val == 'Nepal': # in Asia\n",
    "        country_int.append(0) \n",
    "    elif val == 'Brazil': # in South America\n",
    "        country_int.append(5) \n",
    "    elif val == 'UK': # in Europe\n",
    "        country_int.append(1)\n",
    "    elif val == 'Myanmar': # in Asia\n",
    "        country_int.append(0)\n",
    "    elif val == 'Netherlands': # in Europe\n",
    "        country_int.append(1)\n",
    "    elif val == 'United States': # in North America\n",
    "        country_int.append(4)\n",
    "    elif val == 'Cambodia': # in Asia\n",
    "        country_int.append(0) \n",
    "    elif val == 'Finland': # in Europe\n",
    "        country_int.append(1)\n",
    "    elif val == 'Sweden': # in Euorpe\n",
    "        country_int.append(1)\n",
    "    elif val == 'Sarawak': # in Asia\n",
    "        country_int.append(0)\n",
    "    elif val == 'Philippines': # in Asia\n",
    "        country_int.append(0) \n",
    "    elif val == 'Sweden': # in Europe\n",
    "        country_int.append(1)\n",
    "    elif val == 'Colombia': # in South America\n",
    "        country_int.append(5)\n",
    "    elif val == 'Estonia': # in Europe\n",
    "        country_int.append(1)\n",
    "    elif val == 'Holland': # in Europe\n",
    "        country_int.append(1)\n",
    "    elif val == 'Poland': # in Europe\n",
    "        country_int.append(1)\n",
    "    elif val == 'Dubai': # in Asia\n",
    "        country_int.append(0) \n",
    "    else: # if we have something not in our categories!\n",
    "        country_int.append('')\n",
    "        print('Missing value found.')\n",
    "    \n",
    "# add this as a column to our dataframe\n",
    "data['Country_Int'] = country_int\n",
    "data.head() # show first 5 rows with new column added to dataset"
   ]
  },
  {
   "cell_type": "code",
   "execution_count": 5,
   "metadata": {},
   "outputs": [
    {
     "data": {
      "text/plain": [
       "array([3.75 , 1.   , 2.25 , 2.75 , 4.75 , 4.   , 0.25 , 2.5  , 5.   ,\n",
       "       4.25 , 4.5  , 3.5  , 1.5  , 3.25 , 2.   , 0.   , 3.   , 0.5  ,\n",
       "       3.8  , 4.3  , 2.3  , 3.3  , 1.75 , 0.75 , 1.25 , 1.1  , 2.1  ,\n",
       "       0.9  , 3.1  , 4.125, 3.125, 2.125, 2.9  , 0.1  , 2.8  , 3.7  ,\n",
       "       3.4  , 3.6  , 2.85 , 3.2  , 3.65 , 1.8  ])"
      ]
     },
     "execution_count": 5,
     "metadata": {},
     "output_type": "execute_result"
    }
   ],
   "source": [
    "data['Stars'] = data['Stars'].astype(float) # convert star ratings from string to floats\n",
    "data.dropna(subset = ['Country_Int'], inplace = True) # drop nan from Country_Int column\n",
    "data.dropna(subset = ['Stars'], inplace = True) # drop nan from Stars column\n",
    "data['Stars'].unique() # now show all unique star ratings (no nan now)"
   ]
  },
  {
   "cell_type": "code",
   "execution_count": 6,
   "metadata": {},
   "outputs": [
    {
     "name": "stdout",
     "output_type": "stream",
     "text": [
      "Correlation is: -0.14815642809589183\n"
     ]
    }
   ],
   "source": [
    "import scipy.stats as sp # for p-values and correlations\n",
    "stat, pval = sp.pearsonr(data['Stars'], data['Country_Int']) # calculate correlation and p-value\n",
    "print('Correlation is: {:.17}'.format(stat)) # print output"
   ]
  },
  {
   "cell_type": "markdown",
   "metadata": {
    "deletable": false,
    "editable": false,
    "nbgrader": {
     "cell_type": "markdown",
     "checksum": "1291b915316657d89f93e7a1748c7ea0",
     "grade": false,
     "grade_id": "Q3",
     "locked": true,
     "points": 5,
     "schema_version": 3,
     "solution": false,
     "task": true
    }
   },
   "source": [
    "### Question 3\n",
    "\n",
    "Calculate a linear regression between one dependent variable from your dataset and at least one independent variable from your dataset (these can be the same variables as in Q2). "
   ]
  },
  {
   "cell_type": "code",
   "execution_count": 7,
   "metadata": {},
   "outputs": [
    {
     "data": {
      "text/html": [
       "<table class=\"simpletable\">\n",
       "<caption>OLS Regression Results</caption>\n",
       "<tr>\n",
       "  <th>Dep. Variable:</th>          <td>Stars</td>      <th>  R-squared:         </th> <td>   0.022</td>\n",
       "</tr>\n",
       "<tr>\n",
       "  <th>Model:</th>                   <td>OLS</td>       <th>  Adj. R-squared:    </th> <td>   0.022</td>\n",
       "</tr>\n",
       "<tr>\n",
       "  <th>Method:</th>             <td>Least Squares</td>  <th>  F-statistic:       </th> <td>   57.79</td>\n",
       "</tr>\n",
       "<tr>\n",
       "  <th>Date:</th>             <td>Wed, 05 May 2021</td> <th>  Prob (F-statistic):</th> <td>4.06e-14</td>\n",
       "</tr>\n",
       "<tr>\n",
       "  <th>Time:</th>                 <td>04:15:19</td>     <th>  Log-Likelihood:    </th> <td> -3666.7</td>\n",
       "</tr>\n",
       "<tr>\n",
       "  <th>No. Observations:</th>      <td>  2577</td>      <th>  AIC:               </th> <td>   7337.</td>\n",
       "</tr>\n",
       "<tr>\n",
       "  <th>Df Residuals:</th>          <td>  2575</td>      <th>  BIC:               </th> <td>   7349.</td>\n",
       "</tr>\n",
       "<tr>\n",
       "  <th>Df Model:</th>              <td>     1</td>      <th>                     </th>     <td> </td>   \n",
       "</tr>\n",
       "<tr>\n",
       "  <th>Covariance Type:</th>      <td>nonrobust</td>    <th>                     </th>     <td> </td>   \n",
       "</tr>\n",
       "</table>\n",
       "<table class=\"simpletable\">\n",
       "<tr>\n",
       "       <td></td>          <th>coef</th>     <th>std err</th>      <th>t</th>      <th>P>|t|</th>  <th>[0.025</th>    <th>0.975]</th>  \n",
       "</tr>\n",
       "<tr>\n",
       "  <th>Intercept</th>   <td>    3.7270</td> <td>    0.022</td> <td>  169.770</td> <td> 0.000</td> <td>    3.684</td> <td>    3.770</td>\n",
       "</tr>\n",
       "<tr>\n",
       "  <th>Country_Int</th> <td>   -0.1029</td> <td>    0.014</td> <td>   -7.602</td> <td> 0.000</td> <td>   -0.129</td> <td>   -0.076</td>\n",
       "</tr>\n",
       "</table>\n",
       "<table class=\"simpletable\">\n",
       "<tr>\n",
       "  <th>Omnibus:</th>       <td>441.433</td> <th>  Durbin-Watson:     </th> <td>   1.731</td> \n",
       "</tr>\n",
       "<tr>\n",
       "  <th>Prob(Omnibus):</th> <td> 0.000</td>  <th>  Jarque-Bera (JB):  </th> <td> 804.658</td> \n",
       "</tr>\n",
       "<tr>\n",
       "  <th>Skew:</th>          <td>-1.068</td>  <th>  Prob(JB):          </th> <td>1.87e-175</td>\n",
       "</tr>\n",
       "<tr>\n",
       "  <th>Kurtosis:</th>      <td> 4.711</td>  <th>  Cond. No.          </th> <td>    1.98</td> \n",
       "</tr>\n",
       "</table><br/><br/>Warnings:<br/>[1] Standard Errors assume that the covariance matrix of the errors is correctly specified."
      ],
      "text/plain": [
       "<class 'statsmodels.iolib.summary.Summary'>\n",
       "\"\"\"\n",
       "                            OLS Regression Results                            \n",
       "==============================================================================\n",
       "Dep. Variable:                  Stars   R-squared:                       0.022\n",
       "Model:                            OLS   Adj. R-squared:                  0.022\n",
       "Method:                 Least Squares   F-statistic:                     57.79\n",
       "Date:                Wed, 05 May 2021   Prob (F-statistic):           4.06e-14\n",
       "Time:                        04:15:19   Log-Likelihood:                -3666.7\n",
       "No. Observations:                2577   AIC:                             7337.\n",
       "Df Residuals:                    2575   BIC:                             7349.\n",
       "Df Model:                           1                                         \n",
       "Covariance Type:            nonrobust                                         \n",
       "===============================================================================\n",
       "                  coef    std err          t      P>|t|      [0.025      0.975]\n",
       "-------------------------------------------------------------------------------\n",
       "Intercept       3.7270      0.022    169.770      0.000       3.684       3.770\n",
       "Country_Int    -0.1029      0.014     -7.602      0.000      -0.129      -0.076\n",
       "==============================================================================\n",
       "Omnibus:                      441.433   Durbin-Watson:                   1.731\n",
       "Prob(Omnibus):                  0.000   Jarque-Bera (JB):              804.658\n",
       "Skew:                          -1.068   Prob(JB):                    1.87e-175\n",
       "Kurtosis:                       4.711   Cond. No.                         1.98\n",
       "==============================================================================\n",
       "\n",
       "Warnings:\n",
       "[1] Standard Errors assume that the covariance matrix of the errors is correctly specified.\n",
       "\"\"\""
      ]
     },
     "execution_count": 7,
     "metadata": {},
     "output_type": "execute_result"
    }
   ],
   "source": [
    "# taken from Lecture 18 (DS4E--L18--regression Jupyter Notebook)\n",
    "\n",
    "import statsmodels.formula.api as smf # import package for OLS\n",
    "import statsmodels.api as sm\n",
    "data['Stars'] = pd.to_numeric(data['Stars']) # convert Stars column to numeric values\n",
    "results = smf.ols('Stars ~ Country_Int', data = data).fit() # estimates our OLS regression\n",
    "# our DV (Y variable) is Stars and our IV (X variable) is Country_Int\n",
    "results.summary() # prints a table of results"
   ]
  },
  {
   "cell_type": "markdown",
   "metadata": {
    "deletable": false,
    "editable": false,
    "nbgrader": {
     "cell_type": "markdown",
     "checksum": "fad257c3c79a61a144862041ecc86b6c",
     "grade": false,
     "grade_id": "Q4",
     "locked": true,
     "points": 5,
     "schema_version": 3,
     "solution": false,
     "task": true
    }
   },
   "source": [
    "### Question 4\n",
    "\n",
    "Plot your data with your independent variable on the x-axis and the dependent variable on the y-axis. Plot a line indicating the fit of your regression. You may use built-in functions to calculate this line."
   ]
  },
  {
   "cell_type": "code",
   "execution_count": 8,
   "metadata": {},
   "outputs": [
    {
     "data": {
      "image/png": "[encoded data removed]",
      "text/plain": [
       "<Figure size 432x432 with 1 Axes>"
      ]
     },
     "metadata": {
      "needs_background": "light"
     },
     "output_type": "display_data"
    }
   ],
   "source": [
    "# taken from Lecture 18 (DS4E--L18--regression Jupyter Notebook)\n",
    "\n",
    "import matplotlib.pyplot as plt # package for plot\n",
    "\n",
    "# we can use .params to retrieve these values from the regression output\n",
    "# save these as variables\n",
    "intercept = results.params['Intercept'] \n",
    "slope = results.params['Country_Int']\n",
    "\n",
    "X = data['Country_Int'] # use our observed x vals\n",
    "y_pred = [intercept + (slope * x_i) for x_i in X] # calculate y for every x\n",
    "y_pred2 = results.predict(data['Country_Int'])\n",
    "\n",
    "# ------------ Plot ------------ #\n",
    "plt.figure(figsize=(6,6)) # make square (6 by 6)!\n",
    "\n",
    "# plot data\n",
    "plt.plot(data['Country_Int'], data['Stars'],\n",
    "        marker='o', lw=0, # no line, only markers\n",
    "        label = 'data')\n",
    "\n",
    "# plot fit line\n",
    "plt.plot(X, y_pred2,\n",
    "        label='fit')\n",
    "\n",
    "# set the axes to have the same range\n",
    "plt.xticks(range(0,6, 1)) # for better scaling of x-axis ticks         \n",
    "plt.yticks(range(0,7, 1)) # for better scaling of y-axis ticks   \n",
    "\n",
    "# label axes & title\n",
    "plt.xlabel('Country_Int')\n",
    "plt.ylabel('Stars')\n",
    "\n",
    "plt.title('Association Between Country_Int and Star Rating')\n",
    "plt.legend(loc='upper right') # legend on upper right hand side of plot\n",
    "\n",
    "plt.show() # display plot"
   ]
  },
  {
   "cell_type": "markdown",
   "metadata": {
    "deletable": false,
    "editable": false,
    "nbgrader": {
     "cell_type": "markdown",
     "checksum": "bee8d5bd7b6621291ea2e7d60b076c3b",
     "grade": false,
     "grade_id": "Q5",
     "locked": true,
     "points": 5,
     "schema_version": 3,
     "solution": false,
     "task": true
    }
   },
   "source": [
    "### Question 5\n",
    "\n",
    "Interpret the results from Q3 and Q4. How does a change in the independent variable relate to a change in the dependent variable? Is that relationship significant? Are there omitted variables which may be biasing these results?"
   ]
  },
  {
   "cell_type": "markdown",
   "metadata": {},
   "source": [
    "The regression coefficient for the variable Country_Int is -0.1029. So, for every 1 unit increase in Country_Int (getting \"one continent further away\" from Asia), there will be a -0.1029 change in Star rating, indicating that there is a very slight negative correlation.\n",
    "Since the p-value for Country_Int is 0.000 (below 0.05 - the significance threshold that determines whether the correlation coefficient is or is not significantly different from 0), we reject the null hypothesis, which is that there is no effect of location from Asia (Country_Int) on their ramen star ratings. So, the correlation coefficient is significantly different from 0, implying the relationship is significant.\n",
    "\n",
    "The omitted variable that may be biasing these results is the count of star ratings for every Country_Int. There is an uneven distribution of star ratings per each Country_Int (for example, compare Country_Int 0 and Country_Int 3). This makes it difficult to measure and conclude if the continents \"further from Asia\" truly have a lower ramen rating or they simply lack data. "
   ]
  },
  {
   "cell_type": "markdown",
   "metadata": {
    "deletable": false,
    "editable": false,
    "nbgrader": {
     "cell_type": "markdown",
     "checksum": "b65b6c1e47fef79294a59405afd626d8",
     "grade": false,
     "grade_id": "Q6-9-overview",
     "locked": true,
     "schema_version": 3,
     "solution": false,
     "task": false
    }
   },
   "source": [
    "## Clustering\n",
    "\n",
    "*Questions 6 through 9 relate to k-means clustering.*"
   ]
  },
  {
   "cell_type": "markdown",
   "metadata": {
    "deletable": false,
    "editable": false,
    "nbgrader": {
     "cell_type": "markdown",
     "checksum": "47ea7645b5cda15b1958eb104d8618be",
     "grade": false,
     "grade_id": "Q6",
     "locked": true,
     "points": 5,
     "schema_version": 3,
     "solution": false,
     "task": true
    }
   },
   "source": [
    "### Question 6\n",
    "\n",
    "Use `sklearn` to write a function that calculates k-means clustering for an arbitrary value of k. Your function should return the fitted estimator."
   ]
  },
  {
   "cell_type": "code",
   "execution_count": 9,
   "metadata": {},
   "outputs": [],
   "source": [
    "# Based on Lecture 20 (DS4E—L20—Validation Jupyter Notebook)\n",
    "\n",
    "# stats models for good measure\n",
    "import statsmodels.api as sm                    \n",
    "import statsmodels.formula.api as smf  \n",
    "\n",
    "# SciKit Learn packages\n",
    "from sklearn.model_selection import train_test_split # for splitting data\n",
    "from sklearn.preprocessing import StandardScaler     # feature scaling\n",
    "from sklearn import metrics                          # for evaluation metrics\n",
    "\n",
    "from sklearn.linear_model import LinearRegression    # linear regression\n",
    "from sklearn.neighbors import KNeighborsClassifier   # knn\n",
    "from sklearn.cluster import KMeans                   # kmeans\n",
    "\n",
    "Scaler = StandardScaler()                \n",
    "X = data[['Country_Int']].values # matrix of X values\n",
    "scaled_features = Scaler.fit_transform(X) # scale our X variable\n",
    "scaled_features[:5] # show first 5 rows of rescaled X variables \n",
    "\n",
    "def ramen_k_means(k):\n",
    "    kmeans = KMeans(n_clusters=k) # init k-means object\n",
    "    kmeans.fit(scaled_features)  # run k-means!\n",
    "    return kmeans\n",
    "    "
   ]
  },
  {
   "cell_type": "markdown",
   "metadata": {
    "deletable": false,
    "editable": false,
    "nbgrader": {
     "cell_type": "markdown",
     "checksum": "4e10ca806c0eeeae60e6085f6ef53af0",
     "grade": false,
     "grade_id": "Q7",
     "locked": true,
     "points": 5,
     "schema_version": 3,
     "solution": false,
     "task": true
    }
   },
   "source": [
    "### Question 7\n",
    "\n",
    "Plot the Sum of the Squared Error (SSE) for 1-10 clusters using the function you wrote in Q6. Use the “elbow method” to identify a number of clusters appropriate for your data. Be sure to scale your data before calculating the SSE."
   ]
  },
  {
   "cell_type": "code",
   "execution_count": 10,
   "metadata": {},
   "outputs": [
    {
     "name": "stderr",
     "output_type": "stream",
     "text": [
      "/opt/conda/envs/dsua-111/lib/python3.7/site-packages/ipykernel_launcher.py:23: ConvergenceWarning: Number of distinct clusters (6) found smaller than n_clusters (7). Possibly due to duplicate points in X.\n",
      "/opt/conda/envs/dsua-111/lib/python3.7/site-packages/ipykernel_launcher.py:23: ConvergenceWarning: Number of distinct clusters (6) found smaller than n_clusters (8). Possibly due to duplicate points in X.\n",
      "/opt/conda/envs/dsua-111/lib/python3.7/site-packages/ipykernel_launcher.py:23: ConvergenceWarning: Number of distinct clusters (6) found smaller than n_clusters (9). Possibly due to duplicate points in X.\n",
      "/opt/conda/envs/dsua-111/lib/python3.7/site-packages/ipykernel_launcher.py:23: ConvergenceWarning: Number of distinct clusters (6) found smaller than n_clusters (10). Possibly due to duplicate points in X.\n"
     ]
    },
    {
     "data": {
      "image/png": "[encoded data removed]",
      "text/plain": [
       "<Figure size 864x432 with 1 Axes>"
      ]
     },
     "metadata": {
      "needs_background": "light"
     },
     "output_type": "display_data"
    }
   ],
   "source": [
    "error = list() # create a list for the error\n",
    "\n",
    "for k in range(1,11): # 1-10 clusters\n",
    "    output = ramen_k_means(k) # save output\n",
    "    error.append(output.inertia_) # append onto error list\n",
    "\n",
    "# plot error\n",
    "plt.figure(figsize=(12, 6))\n",
    "plt.plot(range(1, len(error)+1), error, color='blue', linestyle='dashed', marker='o',\n",
    "         markerfacecolor='yellow', markersize=10) # styling and setting range to start at 1\n",
    "\n",
    "plt.yticks(np.arange(0, 3000, 500)) # start y ticks at 0\n",
    "plt.xticks(np.arange(0, 13, 1))  # integer x ticks\n",
    "\n",
    "# title & label axes\n",
    "plt.title('KNN: Error Rate K Value')\n",
    "plt.xlabel('K Value')\n",
    "plt.ylabel('Mean Error')\n",
    "plt.show() # display plot"
   ]
  },
  {
   "cell_type": "code",
   "execution_count": 11,
   "metadata": {},
   "outputs": [
    {
     "data": {
      "text/plain": [
       "2"
      ]
     },
     "execution_count": 11,
     "metadata": {},
     "output_type": "execute_result"
    }
   ],
   "source": [
    "# \"elbow method” to identify a number of clusters appropriate for the data\n",
    "from kneed import KneeLocator # import package necessary for this method\n",
    "kl = KneeLocator(range(1, 11), error, \n",
    "                 curve=\"convex\", direction=\"decreasing\")\n",
    "kl.elbow # display number of appropriate clusters"
   ]
  },
  {
   "cell_type": "markdown",
   "metadata": {
    "deletable": false,
    "editable": false,
    "nbgrader": {
     "cell_type": "markdown",
     "checksum": "f32f274890c253a75e5155db9604a9e0",
     "grade": false,
     "grade_id": "Q8",
     "locked": true,
     "points": 5,
     "schema_version": 3,
     "solution": false,
     "task": true
    }
   },
   "source": [
    "### Question 8\n",
    "\n",
    "Plot the Silhouette Coefficient for 2-10 clusters using the function you wrote in Q6. Be sure to scale your data before calculating the Silhouette Coefficient. How many clusters does this method suggest is optimal? NOTE: Depending on your data, Q7 and Q8 may not yield the same number of clusters."
   ]
  },
  {
   "cell_type": "code",
   "execution_count": 12,
   "metadata": {},
   "outputs": [
    {
     "name": "stderr",
     "output_type": "stream",
     "text": [
      "/opt/conda/envs/dsua-111/lib/python3.7/site-packages/ipykernel_launcher.py:23: ConvergenceWarning: Number of distinct clusters (6) found smaller than n_clusters (7). Possibly due to duplicate points in X.\n",
      "/opt/conda/envs/dsua-111/lib/python3.7/site-packages/ipykernel_launcher.py:23: ConvergenceWarning: Number of distinct clusters (6) found smaller than n_clusters (8). Possibly due to duplicate points in X.\n",
      "/opt/conda/envs/dsua-111/lib/python3.7/site-packages/ipykernel_launcher.py:23: ConvergenceWarning: Number of distinct clusters (6) found smaller than n_clusters (9). Possibly due to duplicate points in X.\n",
      "/opt/conda/envs/dsua-111/lib/python3.7/site-packages/ipykernel_launcher.py:23: ConvergenceWarning: Number of distinct clusters (6) found smaller than n_clusters (10). Possibly due to duplicate points in X.\n"
     ]
    },
    {
     "data": {
      "image/png": "[encoded data removed]",
      "text/plain": [
       "<Figure size 864x432 with 1 Axes>"
      ]
     },
     "metadata": {
      "needs_background": "light"
     },
     "output_type": "display_data"
    }
   ],
   "source": [
    "silhouette = list() # silhouette score\n",
    "\n",
    "# initialize our k-means algorithm\n",
    "kmeans = KMeans(\n",
    "    init=\"random\",\n",
    "    n_clusters=2, # we'll specify 2 clusters ( as recommended by \"elbow method\")\n",
    "    n_init=10,\n",
    "    max_iter=300,\n",
    "random_state =42) # random_state set to 42\n",
    "\n",
    "# run k-means!\n",
    "kmeans.fit(scaled_features) \n",
    "\n",
    "for k in range(2,11): # silhouette requires at least 2 clusters and plots the Silhouette Coefficient for 2-10 clusters\n",
    "    output = ramen_k_means(k) # save output in variable\n",
    "    score = metrics.silhouette_score(scaled_features, output.labels_) # calc silhouette score\n",
    "    silhouette.append(score) # save score\n",
    "\n",
    "# Silhouette score plot\n",
    "plt.figure(figsize=(12, 6))\n",
    "plt.plot(range(2, len(silhouette)+2), silhouette, color='blue', linestyle='dashed', marker='o',\n",
    "         markerfacecolor='yellow', markersize=10)\n",
    "\n",
    "plt.xticks(np.arange(0, 12, 1)) \n",
    "# label title and axes\n",
    "plt.title('K-Means: Silhouette by K Value')\n",
    "plt.xlabel('K Value')\n",
    "plt.ylabel('Silhouette Score')\n",
    "plt.show() # display plot\n",
    "\n",
    "# plot shows that the optimal cluster is at 6 ( the maximum )"
   ]
  },
  {
   "cell_type": "markdown",
   "metadata": {
    "deletable": false,
    "editable": false,
    "nbgrader": {
     "cell_type": "markdown",
     "checksum": "c53906164137a304497beb128cfa1351",
     "grade": false,
     "grade_id": "Q9",
     "locked": true,
     "points": 5,
     "schema_version": 3,
     "solution": false,
     "task": true
    }
   },
   "source": [
    "### Question 9\n",
    "\n",
    "Use your answers to Q7 & Q8 to select a reasonable value for k (must be at least 2). Calculate cluster assignments for each of your observations using your function from Q6. Use two variables from your dataset to plot your data in two dimensional space (ie, variable 1 x variable 2). Color code your data based on cluster assignments."
   ]
  },
  {
   "cell_type": "code",
   "execution_count": 13,
   "metadata": {},
   "outputs": [
    {
     "data": {
      "image/png": "[encoded data removed]",
      "text/plain": [
       "<Figure size 432x288 with 1 Axes>"
      ]
     },
     "metadata": {
      "needs_background": "light"
     },
     "output_type": "display_data"
    }
   ],
   "source": [
    "# run k-means!\n",
    "kmeans.fit(scaled_features) # display output\n",
    "data['clusters'] = kmeans.labels_\n",
    "# plot just the clusters\n",
    "# note that cluster LABELS will be random!\n",
    "\n",
    "colors ={ # show each cluster in a different color\n",
    "    0 : 'C1',\n",
    "    1 : 'C0'\n",
    "    \n",
    "}\n",
    "\n",
    "# for each cluster\n",
    "for i in range(2): # we will use 2 clusters because that is the recommended amount returned by the elbow method previously\n",
    "    subset = data[data['clusters'] == i]\n",
    "    plt.scatter(subset['Country_Int'], # x-variable\n",
    "                subset['Stars'], # y-variable\n",
    "                label='Cluster {}'.format(i), # cluster number labeled as i traverses through the loop\n",
    "               color=colors[i])\n",
    "    \n",
    "plt.xlabel('Country_Int') # label x-axis\n",
    "plt.ylabel('Star Rating') # label y-axis\n",
    "\n",
    "plt.title('Country_Int and Star Rating By Cluster') # label title\n",
    "plt.legend(loc='lower right', prop={'size': 7}) # set legend\n",
    "    \n",
    "plt.show() # display plot"
   ]
  },
  {
   "cell_type": "markdown",
   "metadata": {
    "deletable": false,
    "editable": false,
    "nbgrader": {
     "cell_type": "markdown",
     "checksum": "24b25ed2e290e6769106cd1316b041a0",
     "grade": false,
     "grade_id": "Q10-overview",
     "locked": true,
     "points": 5,
     "schema_version": 3,
     "solution": false,
     "task": true
    }
   },
   "source": [
    "## Conclusion\n",
    "\n",
    "*Question 10 can draw on any of the analyses done in Q1-Q9.*"
   ]
  },
  {
   "cell_type": "markdown",
   "metadata": {
    "deletable": false,
    "editable": false,
    "nbgrader": {
     "cell_type": "markdown",
     "checksum": "0dc461151db608cf7b577e055fefbf71",
     "grade": false,
     "grade_id": "Q10",
     "locked": true,
     "schema_version": 3,
     "solution": false,
     "task": false
    }
   },
   "source": [
    "### Question 10\n",
    "\n",
    "What did you learn from this dataset? Your answer may (but is not required to) address any of the following questions: Does a linear model appear to be a good fit for your data? Does your data appear to cluster in a meaningful way? What limitation do you see to this dataset? What additional analyses might be interesting (Describe, you don’t need to do these)? "
   ]
  },
  {
   "cell_type": "markdown",
   "metadata": {},
   "source": [
    "I learned that this dataset was messy to work with and difficult to interpret which makes me understand the phrase of why we say \"the messy world of data\" a lot better. I learned how to run a regression on a real-world data set and utilize plots to make better sense of the data. I did not find that there was a strong correlation between Country_Int and Stars even though the p-value (0.00) was < 0.05\n",
    "\n",
    "Thus, a linear model does not appear to be a good fit for the data. Interpreting my results is challenging because my IV is Country Int (where higher values indicate they are further from Asia), which is a discrete variable that only takes integer values. So, I was still able to run a regression with this IV, but it was a limitation in my dataset as it made interpreting my results a bit difficult. My regression tells me that the expected effect on Stars for a one-unit increase in Country Int/Content is a 0.1029 decrease. \"A one-unit increase in Country Int\" itself is difficult to measure/interpret because though it means we are getting further away from Asia, there's no precise translation of a one-unit increase into the same actual distance since there is no precise way of measuring the distance between two continents. In other words, \"2\" is not necessarily \"twice as far from Asia\" as \"1\". However, this analysis still shines some insight into this relationship even though the graphs does not show an obvious association, as there is in fact a (very) slight negative correlation between distance from Asia and stars as shown by the correlation coefficient and predicted fitted line plotted in Question 4. "
   ]
  }
 ],
 "metadata": {
  "kernelspec": {
   "display_name": "Python 3",
   "language": "python",
   "name": "python3"
  },
  "language_info": {
   "codemirror_mode": {
    "name": "ipython",
    "version": 3
   },
   "file_extension": ".py",
   "mimetype": "text/x-python",
   "name": "python",
   "nbconvert_exporter": "python",
   "pygments_lexer": "ipython3",
   "version": "3.8.5"
  }
 },
 "nbformat": 4,
 "nbformat_minor": 4
}
